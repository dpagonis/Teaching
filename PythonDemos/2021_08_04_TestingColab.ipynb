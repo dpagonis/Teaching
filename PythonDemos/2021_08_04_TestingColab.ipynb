{
  "nbformat": 4,
  "nbformat_minor": 0,
  "metadata": {
    "colab": {
      "name": "2021_08_04_TestingColab.ipynb",
      "provenance": [],
      "authorship_tag": "ABX9TyOV+DPd3w+LRcs//ExV3VW3",
      "include_colab_link": true
    },
    "kernelspec": {
      "name": "python3",
      "display_name": "Python 3"
    },
    "language_info": {
      "name": "python"
    }
  },
  "cells": [
    {
      "cell_type": "markdown",
      "metadata": {
        "id": "view-in-github",
        "colab_type": "text"
      },
      "source": [
        "<a href=\"https://colab.research.google.com/github/dpagonis/Teaching/blob/main/2021_08_04_TestingColab.ipynb\" target=\"_parent\"><img src=\"https://colab.research.google.com/assets/colab-badge.svg\" alt=\"Open In Colab\"/></a>"
      ]
    },
    {
      "cell_type": "markdown",
      "metadata": {
        "id": "VyvghJMjGXed"
      },
      "source": [
        "# First Colab Notebook"
      ]
    },
    {
      "cell_type": "code",
      "metadata": {
        "colab": {
          "base_uri": "https://localhost:8080/"
        },
        "id": "_kM8YQuQFxsD",
        "outputId": "a41a5e09-e8fe-4f1b-e652-3d418fc081c0"
      },
      "source": [
        "print('Hello World!')"
      ],
      "execution_count": 16,
      "outputs": [
        {
          "output_type": "stream",
          "text": [
            "Hello World!\n"
          ],
          "name": "stdout"
        }
      ]
    },
    {
      "cell_type": "code",
      "metadata": {
        "id": "v7iQ_D3WGs8u"
      },
      "source": [
        "import re\n",
        "sRaw='Sensor1,5 ugsm3,10ugsm3,10 ugsm3'"
      ],
      "execution_count": 17,
      "outputs": []
    },
    {
      "cell_type": "code",
      "metadata": {
        "colab": {
          "base_uri": "https://localhost:8080/",
          "height": 35
        },
        "id": "F78O4smkG6v1",
        "outputId": "1e261dcb-5968-4410-be1c-2a4b81f6f504"
      },
      "source": [
        "s2=sRaw.replace('sm3','')\n",
        "s2"
      ],
      "execution_count": 18,
      "outputs": [
        {
          "output_type": "execute_result",
          "data": {
            "application/vnd.google.colaboratory.intrinsic+json": {
              "type": "string"
            },
            "text/plain": [
              "'Sensor1,5 ug,10ug,10 ug'"
            ]
          },
          "metadata": {
            "tags": []
          },
          "execution_count": 18
        }
      ]
    },
    {
      "cell_type": "code",
      "metadata": {
        "colab": {
          "base_uri": "https://localhost:8080/",
          "height": 35
        },
        "id": "lVq0hhvDHX1R",
        "outputId": "d88105d7-50c2-47f2-a4d0-ed70bf8f9b35"
      },
      "source": [
        "s3=re.sub(\"[^0-9,^,]\",\"\",s2)\n",
        "s3"
      ],
      "execution_count": 19,
      "outputs": [
        {
          "output_type": "execute_result",
          "data": {
            "application/vnd.google.colaboratory.intrinsic+json": {
              "type": "string"
            },
            "text/plain": [
              "'1,5,10,10'"
            ]
          },
          "metadata": {
            "tags": []
          },
          "execution_count": 19
        }
      ]
    }
  ]
}