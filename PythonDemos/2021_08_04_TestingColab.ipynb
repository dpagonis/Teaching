{
  "nbformat": 4,
  "nbformat_minor": 0,
  "metadata": {
    "colab": {
      "name": "2021_08_04_TestingColab.ipynb",
      "private_outputs": true,
      "provenance": []
    },
    "kernelspec": {
      "name": "python3",
      "display_name": "Python 3"
    },
    "language_info": {
      "name": "python"
    }
  },
  "cells": [
    {
      "cell_type": "markdown",
      "metadata": {
        "id": "VyvghJMjGXed"
      },
      "source": [
        "# Getting Started in Colab"
      ]
    },
    {
      "cell_type": "markdown",
      "metadata": {
        "id": "h3d1dQWSvE4u"
      },
      "source": [
        "The usual..."
      ]
    },
    {
      "cell_type": "code",
      "metadata": {
        "id": "_kM8YQuQFxsD"
      },
      "source": [
        "print('Hello World!')"
      ],
      "execution_count": null,
      "outputs": []
    },
    {
      "cell_type": "markdown",
      "metadata": {
        "id": "iPWH5_BjvHae"
      },
      "source": [
        "Testing import and some simple commands"
      ]
    },
    {
      "cell_type": "code",
      "metadata": {
        "id": "v7iQ_D3WGs8u"
      },
      "source": [
        "import re\n",
        "sRaw='Sensor1,5 ugsm3,10 ugsm3,10 ugsm3'"
      ],
      "execution_count": null,
      "outputs": []
    },
    {
      "cell_type": "code",
      "metadata": {
        "id": "F78O4smkG6v1"
      },
      "source": [
        "s2=sRaw.replace('sm3','') #strip out units\n",
        "s2"
      ],
      "execution_count": null,
      "outputs": []
    },
    {
      "cell_type": "code",
      "metadata": {
        "id": "lVq0hhvDHX1R"
      },
      "source": [
        "s3=re.sub(\"[^0-9,^,]\",\"\",s2) #strip out everything else, leaving comma-separated string\n",
        "s3"
      ],
      "execution_count": null,
      "outputs": []
    },
    {
      "cell_type": "markdown",
      "metadata": {
        "id": "mvyIJxDrGTsP"
      },
      "source": [
        "\n",
        "# Importing and installing the libraries you need"
      ]
    },
    {
      "cell_type": "markdown",
      "metadata": {
        "id": "CvloI2KV-raG"
      },
      "source": [
        "Plenty of scientific libraries are already installed (pandas, matplotlib, etc) Here's the list of installed packages available for import:"
      ]
    },
    {
      "cell_type": "code",
      "metadata": {
        "id": "uaPzHSqG-4nm"
      },
      "source": [
        "pip list"
      ],
      "execution_count": null,
      "outputs": []
    },
    {
      "cell_type": "markdown",
      "metadata": {
        "id": "WU-3Uog8_-Lf"
      },
      "source": [
        "We can install other packages from the notebook using pip.\n",
        "\n",
        "The syntax in colab is !pip install, as below:"
      ]
    },
    {
      "cell_type": "code",
      "metadata": {
        "id": "GJrL0BwGAMHk"
      },
      "source": [
        "!pip install pubchempy\n",
        "import pubchempy"
      ],
      "execution_count": null,
      "outputs": []
    },
    {
      "cell_type": "markdown",
      "metadata": {
        "id": "gZsi4hhuB3QP"
      },
      "source": [
        "...and we're in business!"
      ]
    },
    {
      "cell_type": "code",
      "metadata": {
        "id": "gjzEvAzwB450"
      },
      "source": [
        "for compound in pubchempy.get_compounds('acetic anhydride', 'name'):\n",
        "   print(compound.iupac_name,compound.molecular_weight,compound.isomeric_smiles)"
      ],
      "execution_count": null,
      "outputs": []
    },
    {
      "cell_type": "markdown",
      "metadata": {
        "id": "lX3cr-jjGnJv"
      },
      "source": [
        "#Loading in data\n",
        "The folder icon at left lets you load in files manually from drive or your computer, but those only last as long as your remote session on Google's servers. Having the data at a URL is the better approach. Easiest approach for classes is probably github\n",
        "\n",
        "\n",
        "Here I'm loading in one of my  sensor tests from July. \n",
        "\n",
        "**IMPORTANT:** The \"?raw=true\" parameter at the end of the url is what gets you the actual csv instead of github's landing page with all the metadata for the file. This has to be added to the url manually"
      ]
    },
    {
      "cell_type": "code",
      "metadata": {
        "id": "JAdKVTnfEZx7"
      },
      "source": [
        "import pandas as pd\n",
        "url = \"https://github.com/dpagonis/Teaching/blob/main/SampleData/2021_07_28_MatchTestNewTiming.csv?raw=true\"\n",
        "data = pd.read_csv(url)\n",
        "data.head()"
      ],
      "execution_count": null,
      "outputs": []
    },
    {
      "cell_type": "markdown",
      "metadata": {
        "id": "C8BPWIj1UVjx"
      },
      "source": [
        "...and plot..."
      ]
    },
    {
      "cell_type": "code",
      "metadata": {
        "id": "zCCb0x_uJzLh"
      },
      "source": [
        "import matplotlib.pyplot as plt\n",
        "times = data.UnixTime / 86400\n",
        "plt.plot_date(times,data.PM2_5)\n",
        "plt.ylabel('PM2.5 ($μg$ $m^{-3}$)')\n",
        "plt.xlabel('UTC')\n",
        "plt.show()"
      ],
      "execution_count": null,
      "outputs": []
    },
    {
      "cell_type": "code",
      "metadata": {
        "id": "gR_AlFoAF_DK"
      },
      "source": [
        ""
      ],
      "execution_count": null,
      "outputs": []
    }
  ]
}