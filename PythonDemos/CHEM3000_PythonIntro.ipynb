{
 "cells": [
  {
   "cell_type": "markdown",
   "id": "0bae4ffc",
   "metadata": {},
   "source": [
    "# CHEM 3000 — Intro to Python and ChatGPT\n",
    "\n",
    "## Python\n",
    "\n",
    "Python is an open-source programming language. Running python in a colaboratory notebook is as simple as pressing the run button at the left side of a block of code in the notebook. Try it out below:"
   ]
  },
  {
   "cell_type": "code",
   "execution_count": null,
   "id": "cae6a171",
   "metadata": {},
   "outputs": [],
   "source": [
    "print(\"Hello World!\")"
   ]
  },
  {
   "cell_type": "markdown",
   "id": "0223abc7",
   "metadata": {},
   "source": [
    "You should see new output below the cell. If so, congratulations! You are now a programmer"
   ]
  },
  {
   "cell_type": "markdown",
   "id": "a15f1830",
   "metadata": {},
   "source": [
    "\n",
    "## ChatGPT\n",
    "\n",
    "ChatGPT is a large generative AI language model produced by the company OpenAI. We will use it as a programming tool today. \n",
    "\n",
    "### Task 1: \n",
    "- Navigate to chat.openai.com\n",
    "- Create an OpenAI account\n",
    "- Start a new chat with ChatGPT version 3.5\n",
    "- Ask it to explain how the line of code you just ran works. An example prompt is:\n",
    "\n",
    "> Walk me through every bit of this piece of python code. Assume I have never done any programming in my life:\n",
    ">\n",
    "> print(\"Hello World!\")\n",
    "\n",
    "### Task 2: Debugging\n",
    "A very common experience when programming is having errors in your code. These errors prevent commands from running and must be fixed. As an example, try to run the following piece of code, which attempts to do a simple calculation involving the pythagorean theorem\n",
    "\n",
    "$a^2 + b^2 = c^2$"
   ]
  },
  {
   "cell_type": "code",
   "execution_count": null,
   "id": "78d9d51c",
   "metadata": {
    "scrolled": true
   },
   "outputs": [],
   "source": [
    "# The pound sign is used to add human-readable comments to code. Comments are ignored by the program, but are essential tools to make code legible\n",
    "\n",
    "a = 3               #define variable a, set its value to 3\n",
    "b = 4               #create a second variable, b\n",
    "c = (a^2+b^2)^0.5   #use the a and b variables to calculate c from the pythagorean theorem equation\n",
    "print(\"c =\", c)     #print the result of the calculation"
   ]
  },
  {
   "cell_type": "markdown",
   "id": "f6d5b7a5",
   "metadata": {},
   "source": [
    "When a program has an error (informally known as a bug), python tells you which line of code caused the error as well as the type of error and any other information it has. \n",
    " \n",
    "At first these error messages may seem completely unintelligible. That is okay! This is where ChatGPT is extremely useful. Paste the entire error message as a prompt and ask GPT to explain what went wrong and how to fix it. Put your corrected code in the block below and run it. In the text block below the code write a succinct explanation of what was wrong with the code above. *As always — make sure you understand what ChatGPT output is saying before you turn it in!*"
   ]
  },
  {
   "cell_type": "code",
   "execution_count": null,
   "id": "f2e16388",
   "metadata": {},
   "outputs": [],
   "source": [
    "# your corrected code here"
   ]
  },
  {
   "cell_type": "markdown",
   "id": "245d94b0",
   "metadata": {},
   "source": [
    "***write your explanation here***\n",
    "\n",
    "(double click on this cell to edit the text)"
   ]
  },
  {
   "cell_type": "markdown",
   "id": "51d1a984",
   "metadata": {},
   "source": [
    "### Task 3: Simple Calculations\n",
    "\n",
    "Below are three unit conversion calculations for you to practice python with. You can and should ask ChatGPT for help. For each one, write your answer with the correct number of significant figures in the corresponding text block.\n",
    "\n",
    "**1. Convert 2.5 kilometers to miles**"
   ]
  },
  {
   "cell_type": "code",
   "execution_count": null,
   "id": "2bbbaaa3",
   "metadata": {},
   "outputs": [],
   "source": [
    "d_km = 2.5\n",
    "d_mi =      # put your conversion calculation here\n",
    "print(d_mi)"
   ]
  },
  {
   "cell_type": "markdown",
   "id": "f54552fa",
   "metadata": {},
   "source": [
    "*your answer here*"
   ]
  },
  {
   "cell_type": "markdown",
   "id": "00272a11",
   "metadata": {},
   "source": [
    "**2. Convert 72 degrees F to Kelvin**"
   ]
  },
  {
   "cell_type": "code",
   "execution_count": null,
   "id": "60d7959c",
   "metadata": {},
   "outputs": [],
   "source": [
    "Temp_F = 72\n",
    "Temp_K =        # put your conversion calculation here\n",
    "                # add code to display the converted value here"
   ]
  },
  {
   "cell_type": "markdown",
   "id": "2ddec0a3",
   "metadata": {},
   "source": [
    "*your answer here*"
   ]
  },
  {
   "cell_type": "markdown",
   "id": "d6bf01ed",
   "metadata": {},
   "source": [
    "**3. Convert 24.00 g of Carbon to moles.**"
   ]
  },
  {
   "cell_type": "code",
   "execution_count": null,
   "id": "c9aec9d8",
   "metadata": {},
   "outputs": [],
   "source": [
    "# your code here"
   ]
  },
  {
   "cell_type": "markdown",
   "id": "eede5e66",
   "metadata": {},
   "source": [
    "*your answer here*"
   ]
  },
  {
   "cell_type": "markdown",
   "id": "327bde7e",
   "metadata": {},
   "source": [
    "## Objects in python\n",
    "\n",
    "You've just gotten some practice using one of python's most basic 'objects', called the variable.\n",
    "\n",
    "When you run a line of code like `Temp_F = 72`, you are creating an object named \"Temp_F\" that has the value \"72\". You can then access the value of that variable later in your program by using its name (\"Temp_F\"). This is very convenient as your calculations become more and more complex. You can break the calculation into discrete chunks instead of having to write everything out as one long calculation. Here is an example of how this would work when using the quadratic formula:\n",
    "\n",
    "$x=\\frac{-b \\pm \\sqrt{b^2-4ac}}{2a}$\n",
    "\n",
    "One can calculate the discriminant ($b^2-4ac$) separately and then use its values when calculating the roots of the equation:"
   ]
  },
  {
   "cell_type": "code",
   "execution_count": null,
   "id": "1464022b",
   "metadata": {},
   "outputs": [],
   "source": [
    "a = 2       #enter values for a,b,c\n",
    "b = 3\n",
    "c = -5\n",
    "\n",
    "discriminant = b**2-4*a*c       #calculate discriminant\n",
    "root1 = (-b + (discriminant)**0.5)/(2*a)    #calculate roots\n",
    "root2 = (-b - (discriminant)**0.5)/(2*a)\n",
    "\n",
    "print(root1,root2)"
   ]
  },
  {
   "cell_type": "markdown",
   "id": "c639db98",
   "metadata": {},
   "source": [
    "Next we will learn how to use another type of object in python, the \"function\". Functions are lines of code that we give a specific name, so that we can use them again and again. Here is an example function that calculates the roots of a quadratic equation:"
   ]
  },
  {
   "cell_type": "code",
   "execution_count": null,
   "id": "b18ffe78",
   "metadata": {},
   "outputs": [],
   "source": [
    "def quadratic_equation(a,b,c):\n",
    "    # This function solves the quadratic equation ax^2 + bx + c = 0 for the given inputs\n",
    "    discriminant = b**2-4*a*c\n",
    "    root1 = (-b + (discriminant)**0.5)/(2*a)\n",
    "    root2 = (-b - (discriminant)**0.5)/(2*a)\n",
    "    return root1, root2"
   ]
  },
  {
   "cell_type": "code",
   "execution_count": null,
   "id": "5d3c18b3",
   "metadata": {},
   "outputs": [],
   "source": [
    "quadratic_equation(2,3,-5) #this runs the quadratic_equation function for a set of values"
   ]
  },
  {
   "cell_type": "markdown",
   "id": "65dc4ffa",
   "metadata": {},
   "source": [
    "### Task 4: Writing a Function\n",
    "\n",
    "Ask ChatGPT to walk you through the entire structure of the function, paying special attention to the indentation, the `def` keyword, and the `return` statement.\n",
    "\n",
    "Using GPT's walkthrough from the above example as a guide (and potentially asking for more help), write a function that calculates the F statistic, given two standard deviations and their degrees of freedom."
   ]
  },
  {
   "cell_type": "code",
   "execution_count": null,
   "id": "88047cb9",
   "metadata": {},
   "outputs": [],
   "source": [
    "#write your function here"
   ]
  },
  {
   "cell_type": "code",
   "execution_count": null,
   "id": "ce5cefef",
   "metadata": {},
   "outputs": [],
   "source": [
    "#test your function here"
   ]
  },
  {
   "cell_type": "markdown",
   "id": "526a557d",
   "metadata": {},
   "source": [
    "### Task 5: Writing a function with `if / else` logic\n",
    "\n",
    "An extremely useful tool in programming is the `if` statement. This checks if a given condition is true or not, and then executes pre-defined commands in response to the condition. A case 2 t-test is an excellent practice case for seeing how an `if/else` construct can be used in programming.\n",
    "\n",
    "First, write two functions. One that calculates the t statistic according to case 2a, and a second that calculates the t statistic according to case 2b."
   ]
  },
  {
   "cell_type": "code",
   "execution_count": null,
   "id": "7cdce7ce",
   "metadata": {},
   "outputs": [],
   "source": [
    "\n",
    "# case 2a t statistic function here\n",
    "\n",
    "#case 2b t statistic function here"
   ]
  },
  {
   "cell_type": "markdown",
   "id": "c03f8dfc",
   "metadata": {},
   "source": [
    "Now you should have functions that can calculate the F and t statistics for a case 2 t-test. Write a final function that will use the first three functions you wrote to carry out a case 2 t test. You should use an `if/else` construct to determine whether to call your case 2a vs 2b t statistic function."
   ]
  },
  {
   "cell_type": "code",
   "execution_count": null,
   "id": "c9b73642",
   "metadata": {},
   "outputs": [],
   "source": []
  },
  {
   "cell_type": "markdown",
   "id": "39992003",
   "metadata": {},
   "source": [
    "### Task 6: Explore\n",
    "\n",
    "Get ChatGPT to do something cool and/or useful, and document your prompts and the output here by adding new text cells below. Feel free to branch out beyond the material we've covered today and get creative."
   ]
  },
  {
   "cell_type": "markdown",
   "id": "d9e591d6",
   "metadata": {},
   "source": [
    "### Task 7: Submit Through Canvas\n",
    "\n",
    "Save this jupyter notebook as a PDF. This is done under `File > Print` in the menus at the top left of the window. Print to PDF and also select the 'Include Background Graphics' option. Upload this PDF to canvas.  "
   ]
  }
 ],
 "metadata": {
  "kernelspec": {
   "display_name": "Python 3 (ipykernel)",
   "language": "python",
   "name": "python3"
  },
  "language_info": {
   "codemirror_mode": {
    "name": "ipython",
    "version": 3
   },
   "file_extension": ".py",
   "mimetype": "text/x-python",
   "name": "python",
   "nbconvert_exporter": "python",
   "pygments_lexer": "ipython3",
   "version": "3.9.16"
  }
 },
 "nbformat": 4,
 "nbformat_minor": 5
}
