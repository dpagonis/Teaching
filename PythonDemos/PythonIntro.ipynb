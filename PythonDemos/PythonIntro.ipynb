{
  "nbformat": 4,
  "nbformat_minor": 5,
  "metadata": {
    "colab": {
      "name": "Untitled.ipynb",
      "provenance": []
    },
    "language_info": {
      "name": "python"
    },
    "kernelspec": {
      "name": "python3",
      "display_name": "Python 3"
    }
  },
  "cells": [
    {
      "cell_type": "markdown",
      "metadata": {
        "id": "LGowmkzpy8jf"
      },
      "source": [
        "# CHEM2XXX Intro to Python\n",
        "## Command line execution\n",
        "These notebooks use what is called a \"command line interface\". Command lines function similarly to the address bar at the top of web browsers:<br>\n",
        "\n",
        "\n",
        "1.   You enter some text into the bar (e.g. \"weber.edu\")<br>\n",
        "2.   The browser interprepts that text and does the action you were asking for (e.g. loading the WSU website)\n",
        "\n",
        "To run code in the notebook's command line interface, click on the cell and either click the triangular \"run\" button or hit Shift-Enter on your keyboard\n",
        " "
      ],
      "id": "LGowmkzpy8jf"
    },
    {
      "cell_type": "code",
      "metadata": {
        "id": "baPTR4iR0EIz",
        "outputId": "9486754c-3697-4a23-9ac7-2d59316f3522",
        "colab": {
          "base_uri": "https://localhost:8080/"
        }
      },
      "source": [
        "x = 1\n",
        "y = 2\n",
        "x+y"
      ],
      "id": "baPTR4iR0EIz",
      "execution_count": 1,
      "outputs": [
        {
          "output_type": "execute_result",
          "data": {
            "text/plain": [
              "3"
            ]
          },
          "metadata": {
            "tags": []
          },
          "execution_count": 1
        }
      ]
    },
    {
      "cell_type": "code",
      "metadata": {
        "id": "gEnbkliH0zLq"
      },
      "source": [
        ""
      ],
      "id": "gEnbkliH0zLq",
      "execution_count": null,
      "outputs": []
    }
  ]
}