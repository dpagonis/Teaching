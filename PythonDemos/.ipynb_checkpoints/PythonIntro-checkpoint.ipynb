{
 "cells": [
  {
   "cell_type": "markdown",
   "id": "LGowmkzpy8jf",
   "metadata": {
    "id": "LGowmkzpy8jf"
   },
   "source": [
    "# CHEM3XXX Intro to Python\n",
    "## Running code inside a notebook\n",
    "These notebooks run code from \"blocks\". These blocks work similarly to the address bar at the top of web browsers:<br>\n",
    "\n",
    "\n",
    "1.   You enter some text into the bar (e.g. \"weber.edu\")<br>\n",
    "2.   The browser interprepts that text and does the action you were asking for (e.g. loading the WSU website)\n",
    "\n",
    "To run code in the notebook's command line interface, click on the cell and either click the \"▶ Run\" button or hit Shift-Enter on your keyboard\n",
    " "
   ]
  },
  {
   "cell_type": "code",
   "execution_count": null,
   "id": "baPTR4iR0EIz",
   "metadata": {
    "colab": {
     "base_uri": "https://localhost:8080/"
    },
    "id": "baPTR4iR0EIz",
    "outputId": "9486754c-3697-4a23-9ac7-2d59316f3522"
   },
   "outputs": [],
   "source": [
    "x = 1\n",
    "print(x)"
   ]
  },
  {
   "cell_type": "markdown",
   "id": "26c92eac",
   "metadata": {
    "id": "gEnbkliH0zLq"
   },
   "source": [
    "You should see a line appear directly below the block that says:\n",
    "~~~\n",
    "1\n",
    "~~~\n",
    "\n",
    "Let's look closer at what the each of the two lines of code inside that block do:<br>\n",
    "- `x = 1` defines an object named `x`, and sets that object equal to `1` \n",
    "- `print(x)` prompts the program to print the value of `x` to the output block. <br>\n",
    "\n",
    "Notice that the program is executing each line in the order it was entered\n",
    "\n",
    "---\n",
    "\n",
    "Let's create a new object called `y`, set its value to `2`, and print the sum of `x` and `y`"
   ]
  },
  {
   "cell_type": "code",
   "execution_count": null,
   "id": "cde03755",
   "metadata": {
    "scrolled": true
   },
   "outputs": [],
   "source": [
    "y = 2\n",
    "print(x+y)"
   ]
  },
  {
   "cell_type": "markdown",
   "id": "6c4ae436",
   "metadata": {},
   "source": [
    "As you can see, the notebook remembers your value of `x` from the first block, and successfully adds the value of `x` to `y`\n",
    "\n",
    "---\n",
    "Now it's your turn to write the code.<br>\n",
    "**In the following block, create an object called `z`, set its value to `3`, and print the product of `y` and `z`**<br>\n",
    "(multiplication is done using the asterisk *)"
   ]
  },
  {
   "cell_type": "code",
   "execution_count": null,
   "id": "65fcf6b5",
   "metadata": {},
   "outputs": [],
   "source": []
  },
  {
   "cell_type": "markdown",
   "id": "e51d987e",
   "metadata": {},
   "source": [
    "---\n",
    "Sometimes we want to save the result of a calculation, and not just print it to the output block. We can do this in a similar way as we've defined `x`,`y`, and `z` above:"
   ]
  },
  {
   "cell_type": "code",
   "execution_count": null,
   "id": "1396e58d",
   "metadata": {},
   "outputs": [],
   "source": [
    "MyResult = (x + y) / z\n",
    "print(MyResult)"
   ]
  },
  {
   "cell_type": "markdown",
   "id": "9f284d3d",
   "metadata": {},
   "source": [
    "---\n",
    "Now, lets apply these ideas to calculate the molecular weight of acetic acid (C<sub>2</sub>H<sub>4</sub>O<sub>2</sub>)\n"
   ]
  },
  {
   "cell_type": "code",
   "execution_count": null,
   "id": "d6482274",
   "metadata": {},
   "outputs": [],
   "source": [
    "AtomicWeight_C = 12.000\n",
    "AtomicWeight_H = 1.00794\n",
    "AtomicWeight_O = 15.9994"
   ]
  },
  {
   "cell_type": "markdown",
   "id": "1e39f207",
   "metadata": {},
   "source": [
    "**In the following block, use the atomic weights defined above to calculate and print the molecular weight of acetic acid**<br>\n",
    "Be sure to run the code in the block above before proceeding!"
   ]
  },
  {
   "cell_type": "code",
   "execution_count": null,
   "id": "acc01603",
   "metadata": {},
   "outputs": [],
   "source": []
  },
  {
   "cell_type": "markdown",
   "id": "7d2f5a47",
   "metadata": {},
   "source": [
    "Your output should be a value roughly equal to `60.03056`, but with many more decimal places included"
   ]
  }
 ],
 "metadata": {
  "colab": {
   "name": "PythonIntro.ipynb",
   "provenance": []
  },
  "kernelspec": {
   "display_name": "Python 3",
   "language": "python",
   "name": "python3"
  },
  "language_info": {
   "codemirror_mode": {
    "name": "ipython",
    "version": 3
   },
   "file_extension": ".py",
   "mimetype": "text/x-python",
   "name": "python",
   "nbconvert_exporter": "python",
   "pygments_lexer": "ipython3",
   "version": "3.9.5"
  }
 },
 "nbformat": 4,
 "nbformat_minor": 5
}
