{
  "nbformat": 4,
  "nbformat_minor": 5,
  "metadata": {
    "kernelspec": {
      "display_name": "R",
      "language": "R",
      "name": "ir"
    },
    "language_info": {
      "codemirror_mode": "r",
      "file_extension": ".r",
      "mimetype": "text/x-r-source",
      "name": "R",
      "pygments_lexer": "r",
      "version": "3.6.1"
    },
    "colab": {
      "name": "2021_08_09_TestJupytR.ipynb",
      "provenance": []
    }
  },
  "cells": [
    {
      "cell_type": "code",
      "metadata": {
        "id": "ab56a1b7"
      },
      "source": [
        "print(\"Hello World!\")"
      ],
      "id": "ab56a1b7",
      "execution_count": null,
      "outputs": []
    },
    {
      "cell_type": "code",
      "metadata": {
        "id": "5da4e891"
      },
      "source": [
        "x <- 0:10\n",
        "y <- seq(1,100,length.out=11)"
      ],
      "id": "5da4e891",
      "execution_count": null,
      "outputs": []
    },
    {
      "cell_type": "code",
      "metadata": {
        "id": "2760560b"
      },
      "source": [
        "x\n",
        "y"
      ],
      "id": "2760560b",
      "execution_count": null,
      "outputs": []
    },
    {
      "cell_type": "code",
      "metadata": {
        "scrolled": true,
        "id": "aa886bba"
      },
      "source": [
        "plot(x,y)"
      ],
      "id": "aa886bba",
      "execution_count": null,
      "outputs": []
    },
    {
      "cell_type": "markdown",
      "metadata": {
        "id": "c830a225"
      },
      "source": [
        "# Prep Repository for Use in Binder\n",
        "\n",
        "Need a runtime.txt file in the main folder of your repository so that Binder knows to install R\n",
        "this is all that goes in the text file:\n",
        "\n",
        "r-2021-08-09\n",
        "\n",
        "Update date if you want. This is the date of the R version Binder will install\n",
        "\n",
        "go to mybinder.org and enter your github repository url, and hit launch\n",
        "will be slow the first time you do this after adding the runtime.txt"
      ],
      "id": "c830a225"
    },
    {
      "cell_type": "code",
      "metadata": {
        "id": "1814d46f"
      },
      "source": [
        ""
      ],
      "id": "1814d46f",
      "execution_count": null,
      "outputs": []
    }
  ]
}