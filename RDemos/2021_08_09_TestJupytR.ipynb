{
 "cells": [
  {
   "cell_type": "code",
   "execution_count": 1,
   "id": "ab56a1b7",
   "metadata": {},
   "outputs": [
    {
     "name": "stdout",
     "output_type": "stream",
     "text": [
      "[1] \"Hello World!\"\n"
     ]
    }
   ],
   "source": [
    "print(\"Hello World!\")"
   ]
  },
  {
   "cell_type": "code",
   "execution_count": 5,
   "id": "5da4e891",
   "metadata": {},
   "outputs": [],
   "source": [
    "x <- 0:10\n",
    "y <- seq(1,100,length.out=11)"
   ]
  },
  {
   "cell_type": "code",
   "execution_count": 7,
   "id": "2760560b",
   "metadata": {},
   "outputs": [
    {
     "data": {
      "text/html": [
       "<ol class=list-inline>\n",
       "\t<li>0</li>\n",
       "\t<li>1</li>\n",
       "\t<li>2</li>\n",
       "\t<li>3</li>\n",
       "\t<li>4</li>\n",
       "\t<li>5</li>\n",
       "\t<li>6</li>\n",
       "\t<li>7</li>\n",
       "\t<li>8</li>\n",
       "\t<li>9</li>\n",
       "\t<li>10</li>\n",
       "</ol>\n"
      ],
      "text/latex": [
       "\\begin{enumerate*}\n",
       "\\item 0\n",
       "\\item 1\n",
       "\\item 2\n",
       "\\item 3\n",
       "\\item 4\n",
       "\\item 5\n",
       "\\item 6\n",
       "\\item 7\n",
       "\\item 8\n",
       "\\item 9\n",
       "\\item 10\n",
       "\\end{enumerate*}\n"
      ],
      "text/markdown": [
       "1. 0\n",
       "2. 1\n",
       "3. 2\n",
       "4. 3\n",
       "5. 4\n",
       "6. 5\n",
       "7. 6\n",
       "8. 7\n",
       "9. 8\n",
       "10. 9\n",
       "11. 10\n",
       "\n",
       "\n"
      ],
      "text/plain": [
       " [1]  0  1  2  3  4  5  6  7  8  9 10"
      ]
     },
     "metadata": {},
     "output_type": "display_data"
    },
    {
     "data": {
      "text/html": [
       "<ol class=list-inline>\n",
       "\t<li>1</li>\n",
       "\t<li>10.9</li>\n",
       "\t<li>20.8</li>\n",
       "\t<li>30.7</li>\n",
       "\t<li>40.6</li>\n",
       "\t<li>50.5</li>\n",
       "\t<li>60.4</li>\n",
       "\t<li>70.3</li>\n",
       "\t<li>80.2</li>\n",
       "\t<li>90.1</li>\n",
       "\t<li>100</li>\n",
       "</ol>\n"
      ],
      "text/latex": [
       "\\begin{enumerate*}\n",
       "\\item 1\n",
       "\\item 10.9\n",
       "\\item 20.8\n",
       "\\item 30.7\n",
       "\\item 40.6\n",
       "\\item 50.5\n",
       "\\item 60.4\n",
       "\\item 70.3\n",
       "\\item 80.2\n",
       "\\item 90.1\n",
       "\\item 100\n",
       "\\end{enumerate*}\n"
      ],
      "text/markdown": [
       "1. 1\n",
       "2. 10.9\n",
       "3. 20.8\n",
       "4. 30.7\n",
       "5. 40.6\n",
       "6. 50.5\n",
       "7. 60.4\n",
       "8. 70.3\n",
       "9. 80.2\n",
       "10. 90.1\n",
       "11. 100\n",
       "\n",
       "\n"
      ],
      "text/plain": [
       " [1]   1.0  10.9  20.8  30.7  40.6  50.5  60.4  70.3  80.2  90.1 100.0"
      ]
     },
     "metadata": {},
     "output_type": "display_data"
    }
   ],
   "source": [
    "x\n",
    "y"
   ]
  },
  {
   "cell_type": "code",
   "execution_count": null,
   "id": "aa886bba",
   "metadata": {
    "scrolled": true
   },
   "outputs": [],
   "source": [
    "plot(x,y)"
   ]
  },
  {
   "cell_type": "markdown",
   "id": "c830a225",
   "metadata": {},
   "source": [
    "# Prep Repository for Use in Binder\n",
    "\n",
    "Need a runtime.txt file in the main folder of your repository so that Binder knows to install R\n",
    "this is all that goes in the text file:\n",
    "\n",
    "r-2021-08-09\n",
    "\n",
    "Update date if you want. This is the date of the R version Binder will install\n",
    "\n",
    "go to mybinder.org and enter your github repository url, and hit launch\n",
    "will be slow the first time you do this after adding the runtime.txt"
   ]
  },
  {
   "cell_type": "code",
   "execution_count": null,
   "id": "1814d46f",
   "metadata": {},
   "outputs": [],
   "source": []
  }
 ],
 "metadata": {
  "kernelspec": {
   "display_name": "R",
   "language": "R",
   "name": "ir"
  },
  "language_info": {
   "codemirror_mode": "r",
   "file_extension": ".r",
   "mimetype": "text/x-r-source",
   "name": "R",
   "pygments_lexer": "r",
   "version": "3.6.1"
  }
 },
 "nbformat": 4,
 "nbformat_minor": 5
}
