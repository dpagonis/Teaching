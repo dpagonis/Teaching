{
 "cells": [
  {
   "cell_type": "markdown",
   "metadata": {},
   "source": [
    "# Environmental Chemistry Lab - Scale Height of the Atmosphere\n",
    "\n",
    "## Introduction\n",
    "\n",
    "In this lab, you will work individually to measure the scale height of the atmosphere. This is the mathematical parameter that describes the $e$-folding height of the atmosphere — the altitude at which pressure has dropped to $\\frac{1}{e}$ or $\\approx 33\\%$ of its sea-level value. The equation relating scale height and atmospheric pressure is\n",
    " \n",
    "$P = P_0 e^{\\frac{-\\Delta z}{H}}$\n",
    " \n",
    "Where $P$ is the pressure at a given altitude\n",
    "\n",
    "$P_0$ is the pressure at a reference altitude\n",
    "\n",
    "$\\Delta z$ is the difference in altitude between the given and reference altitude\n",
    "\n",
    "and $H$ is the scale height of the atmosphere\n",
    "\n",
    "The objectives for this lab are to:\n",
    "1. Determine the scale height of the atmosphere\n",
    "2. Assess the relative efficacy of different methods of determining scale height of the atmosphere\n",
    "3. Produce high-quality figures\n",
    "4. Summarize findings in a slide deck that is designed to be read (not presented)\n",
    "\n",
    "## Part 1: Familiarize yourself with sensors\n",
    "\n",
    "We will be using arduino microcontrollers with a pressure chip to measure the air pressure at different altitudes. These sensors have been pre-assembled and pre-programmed for you. Connect your sensors to a 9 V battery. If the screen does not turn on, press the small black reset button on the corner of the blue circuit board. \n",
    "\n",
    "Once the screen turns on, you should briefly see a diagnostic screen, then the date & time, and finally a screen with the pressure in mbar and a VOC (volatile organic compound) reading:\n",
    "\n",
    "```\n",
    "    858.52 mbar\n",
    "    voc=200.5\n",
    "```\n",
    "\n",
    "The reading should flash and update approximately every second. If your sensor is not working, notify Dr. Pagonis.\n",
    "\n",
    "Take a quick trip to another floor of Tracy Hall. Does the pressure reading respond corrrectly? i.e. is the pressure higher if you go down a floor? If so, you are ready to move on to Part 2.\n",
    "\n",
    "## Part 2: Data collection\n",
    "\n",
    "Measure pressure as a function of altitude across campus. If leaving Tracy Hall is not an option then you can collect data from the top to the bottom of the building. You will need measurements at ten different altitudes, where each measurement includes:\n",
    "1. the pressure\n",
    "2. the altitude relative to sea level (or some other reference altitude)\n",
    "3. the measurement location\n",
    "If you are travelling across campus to make these measurements you can use tools such as CalTopo to get the altitude of a location relative to sea level\n",
    "\n",
    "## Part 3: Data Analysis\n",
    "\n",
    "- Create a pandas dataframe and populate it with your data. \n",
    "- If your data is absolute altitudes, create a relative altitude column in your dataframe by subtracting off the minumum absolute altitude value: $\\Delta z = z - z_0$\n",
    "- Use pyplot to graph relative altitude (y) vs pressure measurements (x). This is a good time to check in with Dr. Pagonis to make sure the data is in good shape before proceeding."
   ]
  },
  {
   "cell_type": "code",
   "execution_count": null,
   "metadata": {},
   "outputs": [],
   "source": []
  },
  {
   "cell_type": "markdown",
   "metadata": {},
   "source": [
    "- Add a pressure ratio column to your dataframe. $Ratio = \\frac{P}{P_0}$ \n",
    "    - $P_0$ in this calculation is the pressure at your lowest altitude\n",
    "- Create a plot of $\\frac{P}{P_0}$ vs $\\Delta z$\n",
    "- Since we know \n",
    "    1. $P = P_0 e^{\\frac{-\\Delta z}{H}}$ and\n",
    "    1. $\\frac{P}{P_0}$ is our y axis\n",
    "    1. and $\\Delta z$ is our x axis\n",
    "- Our data should be following the trend $y = e^{-x/H}$\n",
    "- This means that if we plot the function $y = e^{-x/H}$ there will be some value of $H$ that shows the best agreement with our data.\n",
    "- Find this value of $H$. This is your measured scale height of the atmoshpere! You are welcome to implement your own regression function, or to use a pre-built python package to do this curve fitting. If you are writing your own regression function you should check in with Dr. Pagonis occasionally to get feedback on your approach.\n",
    "- Add your fitted function $y = e^{-x/H}$ to your figure of $\\frac{P}{P_0}$ vs $\\Delta z$\n",
    "    - The convention for figures that include data and a fitted result is to use markers for the data and a line for the fit\n",
    "\n",
    "\n"
   ]
  },
  {
   "cell_type": "code",
   "execution_count": null,
   "metadata": {},
   "outputs": [],
   "source": []
  },
  {
   "cell_type": "markdown",
   "metadata": {},
   "source": [
    "## Part 4: Scaling it Down\n",
    "\n",
    "Repeat the above procedure, but without leaving the room.\n",
    "\n",
    "**Pro tip**: use a different name for your dataframes and variables in this part than what you used in Part 3"
   ]
  },
  {
   "cell_type": "code",
   "execution_count": null,
   "metadata": {},
   "outputs": [],
   "source": []
  },
  {
   "cell_type": "markdown",
   "metadata": {},
   "source": [
    "## Part 5: Stats\n",
    "```\n",
    "    **NOTE: THIS IS ONLY REQUIRED FOR CHEMISTRY MAJORS USING CHEM3510 AS AN IN-DEPTH COURSE**\n",
    "```\n",
    "\n",
    "Estimate the uncertainty ($s$) and degrees of freedom in your two fitted scale heights. Do a two-sided *t*-test to determine if these two measurements agree"
   ]
  },
  {
   "cell_type": "code",
   "execution_count": null,
   "metadata": {},
   "outputs": [],
   "source": []
  },
  {
   "cell_type": "markdown",
   "metadata": {},
   "source": [
    "## Report\n",
    "\n",
    "You will turn in a slide deck summarizing your results for this lab. These slides should be designed for ***reading*** rather than presentation. In general this means more text and more detail than what you would provide in slides designed for a presentation.\n",
    "\n",
    "Your slides need to include:\n",
    "1. The two scale heights you fitted\n",
    "1. Figures of Altitude vs Pressure for both datasets\n",
    "1. Figures of $\\frac{P}{P_0}$ vs $\\Delta z$ measurements and fit for both datasets\n",
    "1. The accepted value for the scale height of the atmosphere\n",
    "1. Your scientific opinion on:\n",
    "    1. Whether your measured scale heights match the accepted scale height\n",
    "    1. Whether there is any benefit in measuring across a wider range of altitudes"
   ]
  }
 ],
 "metadata": {
  "language_info": {
   "name": "python"
  },
  "orig_nbformat": 4
 },
 "nbformat": 4,
 "nbformat_minor": 2
}
