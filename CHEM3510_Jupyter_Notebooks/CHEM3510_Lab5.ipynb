{
 "cells": [
  {
   "cell_type": "markdown",
   "metadata": {},
   "source": [
    "# Environmental Protection Agency Air Quality System Application Programming Interface (EPA AQS API)\n",
    "\n",
    "## Registration\n",
    " You need to register your email address in order to access the API\n",
    "\n",
    "Run the cells below. Once you have your `key` enter it in the third code cell.\n",
    "\n",
    "**NOTE:** If you accidentaly re-run the middle cell at any point, you will need to update the value of `key`"
   ]
  },
  {
   "cell_type": "code",
   "execution_count": null,
   "metadata": {},
   "outputs": [],
   "source": [
    "import requests\n",
    "email = \"\""
   ]
  },
  {
   "cell_type": "code",
   "execution_count": null,
   "metadata": {},
   "outputs": [],
   "source": [
    "# Construct the API URL\n",
    "endpoint = f\"https://aqs.epa.gov/data/api/signup?email={email}\"\n",
    "response = requests.get(endpoint)\n",
    "\n",
    "# Check response\n",
    "if response.status_code == 200:\n",
    "    print(\"Registration successful. Please check your email for verification.\")\n",
    "else:\n",
    "    print(\"Error registering. Please try again.\")"
   ]
  },
  {
   "cell_type": "code",
   "execution_count": null,
   "metadata": {},
   "outputs": [],
   "source": [
    "key = \"\""
   ]
  },
  {
   "cell_type": "markdown",
   "metadata": {},
   "source": [
    "## API Documentation:\n",
    "https://aqs.epa.gov/aqsweb/documents/data_api.html\n",
    "\n",
    "Working as a group, use the API to: \n",
    "1. Plot time series data of all criteria pollutants and total VOC in the SLC airshed for 2022. Mark the NAAQS primary standard level in the plot.\n",
    "1. Plot a histogram for concentrations of all criteria pollutants and total VOC in the SLC airshed for 2022. Mark the NAAQS primary standard level in this histogram.\n",
    "1. See which criteria air pollutants showed unusually high concentrations in Utah in 2007."
   ]
  }
 ],
 "metadata": {
  "language_info": {
   "name": "python"
  }
 },
 "nbformat": 4,
 "nbformat_minor": 2
}
