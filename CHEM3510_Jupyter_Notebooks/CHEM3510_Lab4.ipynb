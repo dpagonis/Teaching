{
 "cells": [
  {
   "cell_type": "markdown",
   "metadata": {},
   "source": [
    "# Environmental Chemistry Lab: Data Logging and Analysis with $\\text{CO}_2$ and VOC Sensors\n",
    "## Introduction\n",
    "\n",
    "In this two-week lab, you will work with multiple sensors to collect, analyze, and visualize time series data\n",
    "\n",
    "The objectives of this lab are to:\n",
    "- Successfully work with datetime objects to create time series figures\n",
    "- Collect CO2 and VOC data from the field\n",
    "- Process time series data from multiple sensors\n",
    "- Prepare a high-quality scientific poster\n",
    "\n",
    "## Part 1: datetime objects\n",
    "\n",
    "Understanding how to work with datetime objects is a vital skill for data manipulation and analysis. In this series of exercises, you'll learn how to use Python's datetime module to handle time-related data.\n",
    "\n",
    "Before you can work with datetime objects, you need to import the datetime module:\n"
   ]
  },
  {
   "cell_type": "code",
   "execution_count": null,
   "metadata": {},
   "outputs": [],
   "source": [
    "import datetime"
   ]
  },
  {
   "cell_type": "markdown",
   "metadata": {},
   "source": [
    "### Task 1: Creating a datetime object and access its attributes\n",
    "\n",
    "Many objects in python have \"attributes\" that are accessed through the following syntax: `object_name.attribute_name`. This is similar to how you have called methods for objects you've already been working with, such as displaying figures:`plt.show()`. Where `plt` is the name of the plot, and the `show()` method is a function that displays the figure.\n",
    "\n",
    "The code in the block below captures the current date and time from the method `datetime.datetime.now()` and then prints the full timestamp."
   ]
  },
  {
   "cell_type": "code",
   "execution_count": null,
   "metadata": {},
   "outputs": [],
   "source": [
    "current_datetime = datetime.datetime.now()\n",
    "print(current_datetime)"
   ]
  },
  {
   "cell_type": "markdown",
   "metadata": {},
   "source": [
    "This object (`current_datetime`) has attributes such as `hour`, `minute`, and `year` that allow you to pull out small portions of the timestamp. In the code block below, print the year, month, and day using three separate `print()` commands"
   ]
  },
  {
   "cell_type": "code",
   "execution_count": null,
   "metadata": {},
   "outputs": [],
   "source": []
  },
  {
   "cell_type": "markdown",
   "metadata": {},
   "source": [
    "Next, print the result of the `timestamp()` attribute of your datetime object. This is the number that actually represents time inside the datetime object. It is the running total number of seconds since the beginning of time. In many applications, the beginning of time is midnight on January 1st, 1970. Do a quick calculation to confirm that the value returned by the `timestamp()` attribute is in fact the number of seconds since 1970. "
   ]
  },
  {
   "cell_type": "code",
   "execution_count": null,
   "metadata": {},
   "outputs": [],
   "source": []
  },
  {
   "cell_type": "markdown",
   "metadata": {},
   "source": [
    "### Task 2: Calculations using datetime objects\n",
    "\n",
    "Calculate the number of days and hours since you were born. You can subtract `datetime` objects from one another to get a `timedelta` object, which has many of the same attributes as a `datetime` object."
   ]
  },
  {
   "cell_type": "code",
   "execution_count": null,
   "metadata": {},
   "outputs": [],
   "source": []
  },
  {
   "cell_type": "markdown",
   "metadata": {},
   "source": [
    "## Part 2: Generating, loading, and processing time series data\n",
    "\n",
    "You will be working with the same Arduino sensor package as the previous lab. This package is continuously writing data to the SD card (Secure Digital card) that is loaded into the blue circuit board.\n",
    "\n",
    "Plug in your Arduino and confirm that it boots successfully. You should briefly see a diagnostic screen, then the date & time, and finally a screen with the pressure in mbar and a VOC (volatile organic compound) reading:\n",
    "\n",
    "```\n",
    "    858.52 mbar\n",
    "    voc=200.5\n",
    "```\n",
    "\n",
    "Once it boots successfully, collect data for a short period as you move around the building. Be sure to go to multiple floors. Once you are back in lab, complete the following analysis:\n",
    "\n",
    "### Task 3: Plotting time series data\n",
    "1. Upload the data file from the SD card to your Colab notebook and load it into a Pandas dataframe\n",
    "2. Use Pandas to convert the timestamp column to datetime objects\n",
    "1. Create a new data frame that only contains data from your short trip around Tracy Hall today\n",
    "1. Create two graphs\n",
    "    1. Time series of pressure as you moved around the building\n",
    "    1. Time series of VOC concentration (unitless)\n",
    "    - Take time to learn about the different ways you can format the timestamps on the x-axis of these graphs. Think critically about which attributes of the timestamp (year, month, day.... minute, second, microsecond) are important to show for **this** dataset. Apply the same formatting to the timestamps in both plots\n"
   ]
  },
  {
   "cell_type": "code",
   "execution_count": null,
   "metadata": {},
   "outputs": [],
   "source": []
  },
  {
   "cell_type": "markdown",
   "metadata": {},
   "source": [
    "## Part 3: Field data and analysis\n",
    "\n",
    "Take a $\\text{CO}_2$ sensor (Aranet 4 Pro) and the Arduino VOC sensor home. By next week's lab, take several hours of measurements in a fixed location. This can be at home, at work, or in a space here on campus. Ensure that the sensors are within a few inches of one another during this sampling.\n",
    "\n",
    "You will have the entire lab period week 2 to work on and get help with completing the following analysis:\n",
    "1. Load the data from both sensors into a dataframe\n",
    "    - for the Aranet sensor you will need to use their App. If you are unable to install this on your device let Dr. Pagonis know.\n",
    "    - Ensure that the timestamps in your data are converted to datetime objects. This will make time-based operations easier.\n",
    "1. Create a figure that shows CO2 and VOC concentration time series on the same plot. \n",
    "    - this will involve having a shared x-axis and separate y-axes\n",
    "1. Create a correlation plot showing CO2 concentration vs VOC concentration. Include an orthogonal distance regression line-of-best-fit.\n",
    "\n",
    "\n"
   ]
  },
  {
   "cell_type": "code",
   "execution_count": null,
   "metadata": {},
   "outputs": [],
   "source": []
  },
  {
   "cell_type": "markdown",
   "metadata": {},
   "source": [
    "## Part 4: Presentation\n",
    "\n",
    "Create a scientific poster summarizing your results. You should resize a powerpoint slide to be 24 inches by 24 inches. It needs to include:\n",
    "1. All figures produced above\n",
    "1. A project title\n",
    "1. Section headings for different topics in the poster\n",
    "1. Discussion of whether or not CO2 and VOCs are correlated in your dataset, and what that tells you about their sources\n",
    "1. Discussion of what the major CO2 and VOC sources might have been in the space where you sampled\n",
    "\n",
    "The best scientific posters are just as effective being presented aloud as they are being read. Aim to find a balance in terms of figure size and amounts of text that allow your poster to work for both styles of presentation.  "
   ]
  }
 ],
 "metadata": {
  "kernelspec": {
   "display_name": "dp",
   "language": "python",
   "name": "python3"
  },
  "language_info": {
   "codemirror_mode": {
    "name": "ipython",
    "version": 3
   },
   "file_extension": ".py",
   "mimetype": "text/x-python",
   "name": "python",
   "nbconvert_exporter": "python",
   "pygments_lexer": "ipython3",
   "version": "3.9.16"
  },
  "orig_nbformat": 4
 },
 "nbformat": 4,
 "nbformat_minor": 2
}
