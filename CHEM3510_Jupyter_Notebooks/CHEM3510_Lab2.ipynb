{
 "cells": [
  {
   "cell_type": "markdown",
   "metadata": {},
   "source": [
    "# Environmental Chemistry Lab - TUV Calculator and Matplotlib\n",
    "\n",
    "## Introduction\n",
    "\n",
    "In this lab, we will learn how to use the National Center for Atmospheric Research (NCAR) Tropospheric Ultraviolet-Visible (TUV) calculator to model solar radiation in the Earth's atmosphere. We will also learn how to visualize our results using the Matplotlib library.\n",
    "\n",
    "## Part 1: NCAR's TUV Calculator\n",
    "\n",
    "### 1.1 Introduction to the TUV Calculator\n",
    "\n",
    "- The TUV calculator is a radiative transfer model that calculates the intensity (actinic flux) of photons from the sun at a given point in the earth's atmosphere.\n",
    "- This is useful because the rate constants of many important reactions depend on actinic flux.\n",
    "- The TUV calculator is highly customizable. We will be exploring how light intensity varies with time of day, season, latitude, and longitude.\n",
    "\n",
    "### 1.2 Using the TUV Calculator\n",
    "\n",
    "1. Navigate to the TUV calculator's website: https://www.acom.ucar.edu/Models/TUV/Interactive_TUV/\n",
    "2. Input the required parameters (latitude, longitude, time of year, and altitude) and run the simulation.\n",
    "    - You can pick any location and time for this example\n",
    "    - In the third column (Sunlight), you want to select the `ACTINIC FLUX, SPECTRAL (quanta s-1 cm-2 nm-1)` checkbox, and deselect the `MOLECULAR PHOTOLYSIS FREQUENCIES (s-1)` checkbox \n",
    "3. Press `GO!`\n",
    "\n",
    "If the model ran successfully you should see a table of actinic fluxes at different wavelengths. \n",
    "\n",
    "Let Dr. Pagonis know that you've reached this point, and then continue on to the next section.\n",
    "\n",
    "### 1.3 Importing the Data\n",
    "\n",
    "In this section, we will use Python to import the data into a Pandas dataframe. This involves understanding the structure of the NCAR TUV API, and so I have already written this function. You simply need to import it using the code below"
   ]
  },
  {
   "cell_type": "code",
   "execution_count": null,
   "metadata": {},
   "outputs": [],
   "source": [
    "# Download the Python file from GitHub\n",
    "!wget https://raw.githubusercontent.com/dpagonis/dp_research_public/main/DP_GenTools.py\n",
    "\n",
    "# Import the desired function from the Python file\n",
    "from DP_GenTools import DP_TUV_ActinicFlux\n",
    "\n",
    "# Import other libraries\n",
    "import pandas as pd\n",
    "import requests\n",
    "from io import StringIO"
   ]
  },
  {
   "cell_type": "markdown",
   "metadata": {},
   "source": [
    "You can now call the function `DP_TUV_ActinicFlux` in this Jupyter notebook! This function is compatible with python's `help` function. Ask ChatGPT to help you run the `help` function to learn more about `DP_TUV_ActinicFlux`. Summarize the inputs and outputs in the text cell below."
   ]
  },
  {
   "cell_type": "code",
   "execution_count": null,
   "metadata": {},
   "outputs": [],
   "source": []
  },
  {
   "cell_type": "markdown",
   "metadata": {},
   "source": [
    "....*your summary here*...."
   ]
  },
  {
   "cell_type": "markdown",
   "metadata": {},
   "source": [
    "Now that you have a handle on how the import function works, run `DP_TUV_ActinicFlux` for Ogden today. Confirm that your dataframe contains valid actinic fluxes by printing it."
   ]
  },
  {
   "cell_type": "code",
   "execution_count": null,
   "metadata": {},
   "outputs": [],
   "source": []
  },
  {
   "cell_type": "markdown",
   "metadata": {},
   "source": [
    "## 1.4 Processing the data\n",
    "\n",
    "Add a column to the data frame where you calculate the energy flux as a function of wavelength. The actinic flux data provided by TUV tells you the number of photons at a given wavelength, and so you can use that number and the equation $E=\\frac{hc}{\\lambda}$ to find the energy flux. Once you have this calculated get the total amount of solar energy in the wavelength range covered by your data (in units of $\\frac{W}{m^2}$)"
   ]
  },
  {
   "cell_type": "code",
   "execution_count": null,
   "metadata": {},
   "outputs": [],
   "source": []
  },
  {
   "cell_type": "markdown",
   "metadata": {},
   "source": [
    "# Part 2: Learning to plot with matplotlib\n",
    "\n",
    "## 2.1 Matplotlib basics\n",
    "We will be using the matplotlib library to make graphs and figures in this class. This is by far the most commonly used plotting library in python. The import call is:"
   ]
  },
  {
   "cell_type": "code",
   "execution_count": null,
   "metadata": {},
   "outputs": [],
   "source": [
    "import matplotlib.pyplot as plt"
   ]
  },
  {
   "cell_type": "markdown",
   "metadata": {},
   "source": [
    "The typical workflow for using matplotlib is:\n",
    "1. Create the figure object\n",
    "2. Add axes object (as in x-axis and y-axis) to the figure\n",
    "    - you can have many axes within a single figure\n",
    "2. Add data to the axes\n",
    "2. Beautify the figure\n",
    "    - axis labels that include units\n",
    "    - legend\n",
    "    - color and style of data\n",
    "2. Display and/or save the figure\n",
    "\n",
    "Plot the total actinic flux vs wavelength for Ogden today (from part 1.3 above). Be sure to include axis labels with units."
   ]
  },
  {
   "cell_type": "code",
   "execution_count": null,
   "metadata": {},
   "outputs": [],
   "source": []
  },
  {
   "cell_type": "markdown",
   "metadata": {},
   "source": [
    "## 2.2 Multiple axes in a figure\n",
    "\n",
    "Create a 2-panel figure where one panel shows the actinic flux as a function of wavelength, and the second panel shows the energy flux as a function of wavelength. What wavelengths have the most solar energy?\n",
    "\n"
   ]
  },
  {
   "cell_type": "code",
   "execution_count": null,
   "metadata": {},
   "outputs": [],
   "source": []
  },
  {
   "cell_type": "markdown",
   "metadata": {},
   "source": [
    "# 3 Sources of variability in actinic flux\n",
    "\n",
    "Create figures to support a (roughly) 5-minute presentation that explains how and why actinic flux varies with one of the parameters below. Each of you needs to select a different parameter from the list below, so if you are the first to reach this point you can coordinate how they get divided up among the class.\n",
    "\n",
    "1. Season\n",
    "1. Time of day\n",
    "1. Latitude\n",
    "1. Altitude\n",
    "1. Thickness of the ozone layer\n",
    "\n",
    "Your presentation should include analysis of how the total energy flux varies, as well how the actinic flux and energy flux vary with wavelength. You will present these results in class on Wednesday, September 13th. Take the time to make your figures elegant and easy to understand. Your slides should have very little text - the focus needs to be on the figures."
   ]
  },
  {
   "cell_type": "code",
   "execution_count": null,
   "metadata": {},
   "outputs": [],
   "source": []
  }
 ],
 "metadata": {
  "kernelspec": {
   "display_name": "dp",
   "language": "python",
   "name": "python3"
  },
  "language_info": {
   "codemirror_mode": {
    "name": "ipython",
    "version": 3
   },
   "file_extension": ".py",
   "mimetype": "text/x-python",
   "name": "python",
   "nbconvert_exporter": "python",
   "pygments_lexer": "ipython3",
   "version": "3.9.16"
  },
  "orig_nbformat": 4
 },
 "nbformat": 4,
 "nbformat_minor": 2
}
